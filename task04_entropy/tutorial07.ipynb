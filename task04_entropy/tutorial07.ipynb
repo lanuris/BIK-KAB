{
 "cells": [
  {
   "cell_type": "markdown",
   "metadata": {
    "id": "aVAFhlpdC-Rc"
   },
   "source": [
    "Nezbytné importy.\n",
    "\n",
    "Funkce `kdf (password, salt = b'', rounds = 1)` bude sloužit k zahashování hesla, jenž se bude předávat prvním parametrem `password`. Volitelně lze ještě zadat sůl a počet iterací."
   ]
  },
  {
   "cell_type": "code",
   "execution_count": 2,
   "metadata": {
    "id": "2-tcYVsvCq0F"
   },
   "outputs": [],
   "source": [
    "import time\n",
    "import hashlib\n",
    "import sys\n",
    "import itertools\n",
    "\n",
    "# Výpočet hash z hesla s použitím soli a zvoleného počtu iterací\n",
    "def kdf (password: bytes, salt: bytes = b'', rounds: int = 1) -> bytes:\n",
    "  h = salt + password\n",
    "  for i in range(rounds):\n",
    "    dgst = hashlib.sha512()\n",
    "    dgst.update(h)\n",
    "    h = dgst.digest()\n",
    "  return h # Výsledná hash"
   ]
  },
  {
   "cell_type": "code",
   "execution_count": 5,
   "metadata": {},
   "outputs": [
    {
     "name": "stdout",
     "output_type": "stream",
     "text": [
      "b'\\x8dp\\x8d\\x18\\xb5M\\xf3\\x96-io\\x06\\x9a\\xd4-\\xadwb\\xb5\\xd4\\xd3\\xc9~\\xe5\\xfa-\\xae\\x06s\\xedFTQd\\xc0x\\xb8\\xdb=Y\\xc4\\xb9` \\xe41o\\x17\\xbb=\\x91\\xbf\\x1fk\\xc0\\x89k\\xbeuAn\\xb8\\xc3\\x85'\n",
      "8d708d18b54df3962d696f069ad42dad7762b5d4d3c97ee5fa2dae0673ed46545164c078b8db3d59c4b96020e4316f17bb3d91bf1f6bc0896bbe75416eb8c385\n"
     ]
    }
   ],
   "source": [
    "# Vyzkoušíme funkci kdf pro výpočet hashe hesla\n",
    "print(kdf(b'AAA')) # bytes\n",
    "print(kdf(b'AAA').hex()) # hex string"
   ]
  },
  {
   "cell_type": "markdown",
   "metadata": {
    "id": "0aFdjGWuDlhV"
   },
   "source": [
    "V souboru `English.dic` je seznam slov, která nám budou sloužit pro slovníkový útok, tzn. budeme uvažovat hesla pouze z tohoto seznamu. Pro následné rychlé získání hesla z hashe si předpočítáme hashe pro všechna slova v tomto seznamu.\n",
    "\n"
   ]
  },
  {
   "cell_type": "code",
   "execution_count": 6,
   "metadata": {
    "id": "mGTuPOI2Df-F"
   },
   "outputs": [],
   "source": [
    "# Načtení slov ze souboru\n",
    "with open(\"English.dic\", \"r\") as fin:\n",
    "  passwords=fin.readlines()\n",
    "\n",
    "passwords = [x.strip() for x in passwords] # Odstranění newline"
   ]
  },
  {
   "cell_type": "code",
   "execution_count": 7,
   "metadata": {
    "id": "_onSW0e6Eos8"
   },
   "outputs": [],
   "source": [
    "# Vytvoříme slovník (dictionary - dále v textu budeme používat také \"dict\" pro rozlišení datového typu v Pythonu)\n",
    "# - budou zde uloženy dvojice klíč:hodnota (hash:heslo v našem případě), indexuje se pomocí klíče\n",
    "hashPasswordTable = {kdf(bytes(x, 'utf8')):x for x in passwords}"
   ]
  },
  {
   "cell_type": "code",
   "execution_count": 8,
   "metadata": {
    "id": "llAnHMRtFK3i"
   },
   "outputs": [
    {
     "name": "stdout",
     "output_type": "stream",
     "text": [
      "AAA\n"
     ]
    }
   ],
   "source": [
    "# Příklad použití slovníku: Zachytili jsme následující hash, a víme, že heslo je ze slovníku.\n",
    "testHash = bytes.fromhex(\"8d708d18b54df3962d696f069ad42dad7762b5d4d3c97ee5fa2dae0673ed46545164c078b8db3d59c4b96020e4316f17bb3d91bf1f6bc0896bbe75416eb8c385\")\n",
    "# Jaké bylo odpovídající původní heslo?\n",
    "print(hashPasswordTable[testHash])"
   ]
  },
  {
   "cell_type": "markdown",
   "metadata": {
    "id": "RXZT9ThyFgIC"
   },
   "source": [
    "## Úkol 1\n",
    "Jak bude velká tato tabulka? Použitá hashovací funkce je SHA512.\n",
    "Stačí řádově, neuvažujte reprezentaci slovníku (datového typu dict) v Pythonu.\n",
    "\n",
    "**Odpověď:**\n",
    "SHA512 hash funkce produkuje hash o délce 512 bitů, což je 64 bytů pro každé heslo.\n",
    "Celková velikost hash tabulky v bytech: 318,971(English.dict) × 64 = 20,414,144 bytů, což je přibližně 19.5 MB."
   ]
  },
  {
   "cell_type": "markdown",
   "metadata": {
    "id": "5V5u92d8IjuI"
   },
   "source": [
    "Nyní můžeme pro srovnání zkusit rychlost nalezení hesla při použití hrubé síly (zkoušení všech možných kombinací povolených znaků hesla), nebo předpočítané tabulky.\n",
    "\n",
    "**Poznámka:** Je dobré si uvědomit, že předpočítaná tabulka je pouze ze slov ve slovníku English.dic, tzn. je už sama o sobě značně omezená. Pokud bychom předpočítávali hash pro všechna možná hesla do určité délky, tabulka by byla značně větší."
   ]
  },
  {
   "cell_type": "code",
   "execution_count": null,
   "metadata": {
    "id": "6tAGeAVpFOvJ"
   },
   "outputs": [],
   "source": [
    "target = kdf(b'phial')"
   ]
  },
  {
   "cell_type": "code",
   "execution_count": null,
   "metadata": {
    "id": "bEbDnSDeHGzA"
   },
   "outputs": [],
   "source": [
    "%%time\n",
    "for x in itertools.product('abcdefghijklmnopqrstuvwxyz', repeat=5): # procházení všech kombinací malých písmen o délce 5\n",
    "  p = ''.join(x)\n",
    "  if kdf(bytes(p, 'ascii')) == target:\n",
    "    print(p)\n",
    "    break"
   ]
  },
  {
   "cell_type": "code",
   "execution_count": null,
   "metadata": {
    "id": "u_4GNxaGHXMZ"
   },
   "outputs": [],
   "source": [
    "%time\n",
    "hashPasswordTable[target]"
   ]
  },
  {
   "cell_type": "markdown",
   "metadata": {
    "id": "uh7WbTSDI807"
   },
   "source": [
    "## Úkol 2\n",
    "Pro zamezení nebo ztížení využití předpočítaných tabulek se využívá sůl.\n",
    "\n",
    "Prostá hash hesla: hash = H (password)\n",
    "\n",
    "Osolená hash: salted_hash = H (salt || password)\n",
    "\n",
    "Uvažujme zjednodušený případ, kdy sůl může být pouze jeden malý znak (a-z).\n",
    "Vytvořte novou předpočítanou tabulku, která bude obsahovat všechny možné kombinace soli a slov ze seznamu výše. (Pro naše účely se sůl jednoduše zřetězí se slovem před zahashováním, lze ji také zadat jako argument volání funkce `kdf`)\n",
    "\n",
    "-------------------\n",
    "\n",
    "Jak bude velká tato tabulka?\n",
    "\n",
    "**Odpověď:**\n",
    "Celková velikost: 318,971×26(sůl)×64 = 532,595,456 bytů, což je přibližně 508 MB.\n",
    "\n",
    "\n",
    "Jak dlouhá by měla být sůl v případě, že bychom chtěli, aby výsledná předpočítaná tabulka byla větší než 1TB? Předpokládejte stále stejný slovník, do velikosti tabulky pro jednoduchost stačí uvažovat pouze velikost 1 hash a její počet (nemusíte zakomponovávat velikost řetězců reprezentující heslo a sůl).\n",
    "U délky soli uvažujte 2 případy:\n",
    "1) Sůl sestávající z malých znaků (a-z)\n",
    "2) Sůl sestávající z libovolných bytů (hexadecimálně 0x00-0xFF)\n",
    "(Může být výhodné si nejprve vyjádřit, jakou entropii by sůl měla mít.)\n",
    "\n",
    "**Odpověď:** 1,099,511,627,776 bytů / (64 bytů x 318,971 ) = 5,386 (komb.)\n",
    "1)Sůl o délce 3: 26^3=17,576 (komb. > 5,386 ) 2) Sůl o délce 2: 256^2 =65,536 (komb. > 5,386 )\n",
    "\n",
    "-------------------\n",
    "Poté si zvolte náhodně sůl (1 znak) a 1 slovo ze seznamu, které poslouží jako vaše heslo. Tuto kombinaci zahashujte, vzájemně si pošlete ve dvojicích a zjistěte heslo vašeho kolegy.\n",
    "\n",
    "**Poznámka:** Kromě samotné hashe můžete kolegovi prozradit i sůl. V běžném scénáři (únik databáze) jsou k dispozici všechny údaje nutné pro výpočet hashe (použitý algoritmus, sůl, počet iterací), kromě samotného hesla.\n"
   ]
  },
  {
   "cell_type": "code",
   "execution_count": 15,
   "metadata": {
    "id": "ahMpJjLtIe3d"
   },
   "outputs": [],
   "source": [
    "saltedhashPasswordTable = kdf(bytes(passwords[2], 'utf8'))"
   ]
  },
  {
   "cell_type": "markdown",
   "metadata": {
    "id": "LNx7o_NBK6tc"
   },
   "source": [
    "Kromě soli se pro ztížení útoků využívá také vyšší počet iterací vybrané hashovací funkce."
   ]
  },
  {
   "cell_type": "code",
   "execution_count": 12,
   "metadata": {
    "id": "edtoA3WULkiv"
   },
   "outputs": [
    {
     "name": "stdout",
     "output_type": "stream",
     "text": [
      "CPU times: total: 0 ns\n",
      "Wall time: 7.97 ms\n"
     ]
    },
    {
     "data": {
      "text/plain": [
       "b'\\xbb,;(!\\x8eb\\xc9\\x9a \\xaa\\xdfS\\x8b\\xee\\xe0\\xcbsKR\\x9aT\\xfa\\xd3d\\x8c?\\xf2\\x81\\xfd\\xe9\\x8e*\\xfd[uG\\x9dM\\xb4>e\\xaeP\\xd6\\x9f$\\xad\\xaf\\xc2\\xf3/ \\xc8m\\xbdG\\xf7]\\xa1\\x08\\xa4t\\xc4'"
      ]
     },
     "execution_count": 12,
     "metadata": {},
     "output_type": "execute_result"
    }
   ],
   "source": [
    "%%time\n",
    "kdf(b'abcdefgh', rounds=10000)"
   ]
  },
  {
   "cell_type": "code",
   "execution_count": 17,
   "metadata": {
    "id": "edtoA3WULkiv"
   },
   "outputs": [
    {
     "name": "stdout",
     "output_type": "stream",
     "text": [
      "Hash rate: 1016308.2141991762 hashes/second\n"
     ]
    }
   ],
   "source": [
    "start_time = time.time()\n",
    "number_of_hashes = 1000\n",
    "for _ in range(number_of_hashes):\n",
    "    kdf(b'test')\n",
    "end_time = time.time()\n",
    "hashes_per_second = number_of_hashes / (end_time - start_time)\n",
    "\n",
    "print(f\"Hash rate: {hashes_per_second} hashes/second\")"
   ]
  },
  {
   "cell_type": "markdown",
   "metadata": {
    "id": "J0hQA24snnDY"
   },
   "source": [
    "## Úkol 3\n",
    "\n",
    "Spočtěte váš hash rate (počet hashů za vteřinu, které dokážete spočítat).\n",
    "\n",
    "**Odpověď:**\n",
    "1016308.2141991762 hashes/second\n",
    "\n",
    "Kolik iterací hashovací fce bude potřeba nastavit při tvorbě hashe z hesla, aby útočníkovi trvalo přibližně rok jeho prolomení? Předpokládejme, že heslo je vytvořeno zcela náhodně z tisknutelných ASCII znaků (95), je dlouhé 8 znaků, hash rate útočníka je 1000000000000 hash/vteřina (1 terahash/s). Jak dlouho by v takovém případě trval výpočet hash z hesla na vašem zařízení?\n",
    "\n",
    "**Odpověď:**\n",
    "1) 95^8 komb. hesel / 1000000000000 hash/vteřina = 6634.20431 second (prolomení). 31,536,000 second (v roce) / 95^8 komb. hesel = 4752 iteraci\n",
    "2) Moje zařízení: 1 / 1016308.2141991762 hashes/second = 0.000000984 sekund. 4752 x 0.000000984 = 0.004678 sekund\n",
    " \n"
   ]
  },
  {
   "cell_type": "code",
   "execution_count": null,
   "metadata": {
    "id": "NisQvRaknPhM"
   },
   "outputs": [],
   "source": []
  }
 ],
 "metadata": {
  "colab": {
   "provenance": []
  },
  "kernelspec": {
   "display_name": "Python 3 (ipykernel)",
   "language": "python",
   "name": "python3"
  },
  "language_info": {
   "codemirror_mode": {
    "name": "ipython",
    "version": 3
   },
   "file_extension": ".py",
   "mimetype": "text/x-python",
   "name": "python",
   "nbconvert_exporter": "python",
   "pygments_lexer": "ipython3",
   "version": "3.8.7"
  }
 },
 "nbformat": 4,
 "nbformat_minor": 4
}
